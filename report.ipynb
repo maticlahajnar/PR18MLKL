{
 "cells": [
  {
   "cell_type": "markdown",
   "metadata": {},
   "source": [
    "# Končno poročilo projekta pri predmetu Podatkovno rudarjenje 2017/2018"
   ]
  },
  {
   "cell_type": "markdown",
   "metadata": {},
   "source": [
    "#### Avtorja: Matic Lahajnar, Klemen Levstik"
   ]
  },
  {
   "cell_type": "markdown",
   "metadata": {},
   "source": [
    "## Stanovanja v londonu"
   ]
  },
  {
   "cell_type": "markdown",
   "metadata": {},
   "source": [
    "### 1. Opis problema\n",
    "\n",
    "Odločila sva se, da bova obdelovala podatke o stanovanjih v Londonu, ti pa so objavljeni na spletni strani tomslee.net/airbnb. Zanima naju, kako se cena dviga / spušča glede na regijo mesta, tip stanovanja ipd. AirBnB trdi, da $70$ % strank, ki stanuje v nekem stanovanju, pusti tudi oceno, tako da bova poskušala na nek način obdelati tudi obisk glede na tip, lokacijo, itd. stanovanja."
   ]
  },
  {
   "cell_type": "markdown",
   "metadata": {},
   "source": [
    "### 2. Predstavitev podatkov\n",
    "\n",
    "Strukturirani so v datoteke, kjer so podatki oz. atributi ločeni z vejico (`.csv`). Slednji so opisani spodaj:\n",
    "- `room_id`: unikaten id, ki predstavlja neko določeno stanovanje / sobo\n",
    "- `host_id`: unikaten id, ki predstavlja gostitelja oz. lastnika stanovanja\n",
    "- `room_type`: diskretni atribut, katerega možnosti so:\n",
    "  - `Entire home/apt`\n",
    "  - `Private room`\n",
    "  - `Shared room`\n",
    "- `borough`: Območje mesta\n",
    "- `neighborhood`: Manjše območje mesta\n",
    "- `reviews`: Število ocen stanovanja\n",
    "- `overall_satisfaction`: Povprečna ocena stanovanja\n",
    "- `accommodates`: Število gostov, ki lahko bivajo v stanovanju\n",
    "- `bedrooms`: Število sob v stanovanju\n",
    "- `price`: Cena (v $) na noč. V zgodnjih podatkih je cena možna za cel mesec\n",
    "- `minstay`: Najmanjše število nočitev\n",
    "- `lattitude` in `longitude`: Lokacija stanovanja v koordinatih (lahko odstopa za par 100m)\n",
    "- `last_modified`: Datum in ura branja objave na AirBnB"
   ]
  },
  {
   "cell_type": "markdown",
   "metadata": {},
   "source": [
    "### 3. Izvedene analize\n",
    "\n",
    "#### 3.0 Vrste stanovanj\n",
    "Kot že omenjeno v opisu podatkov, obstajajo 3 vrste stanovanj v Londonu, in sicer \"Zasebna soba\", \"Deljena soba\" in \"Celo stanovanje\". Porazdelitev omenjenih je sledeča:\n",
    "<img src=\"vrste_stanovanj.png\"/>"
   ]
  },
  {
   "cell_type": "markdown",
   "metadata": {},
   "source": [
    "#### 3.1 Gibanje cen stanovanj\n",
    "Najprej naju je zanimalo, kako se povprečne cene stanovanj gibljejo skozi leta. Odgovor na zastavljeno vprašanje je bil precej zanimiv.\n",
    "<img src=\"povprecna_cena_po_letih.png\"/>\n",
    "Cena povprečnega stanovanja v Londonu namreč pada, razlika pa nikakor ni zanemarljiva, saj je denimo med letoma $2014$ in $2017$ razlike že za več kot $65$ USD, kar  pomeni, da se je povprečna cena stanovanj znižala za kar $35$ %."
   ]
  },
  {
   "cell_type": "markdown",
   "metadata": {},
   "source": [
    "#### 3.2 Vpliv cene na obisk\n",
    "Naslednje vprašanje, ki naju je zanimalo, je bilo, kako cena stanovanja vpliva na njegov obisk.\n",
    "<img src=\"vpliv_cene_na_obisk.png\"/>\n",
    "Tu presenečenj ni, saj je največ obiskovalcev noč preživelo v cenejših stanovanjih oz. stanovanjih, cenejših od $200$ USD na nočitev."
   ]
  },
  {
   "cell_type": "markdown",
   "metadata": {},
   "source": [
    "#### 3.4 Najbolj obiskana stanovanja\n",
    "Po tem, naju je zanimalo, katere regije mesta so najbolj obiskane, torej kje v Londonu beležijo največ prenočitev.\n",
    "<img src=\"porazdeljenost_stanovanj_po_londonu.png\"/>\n",
    "Tu lahko vidimo, da je največ sob za prenočitev na voljo prav v središču mesta, saj večja količina točk stanovanj ustvari gostejšo površino."
   ]
  },
  {
   "cell_type": "markdown",
   "metadata": {},
   "source": [
    "#### 3.5 Porazdelitev cen stanovanj\n",
    "Nato naju je zanimalo, kje v mestu so stanovanja najdražja oz. najcenejša. Odgovoril nama je spodnji graf.\n",
    "<img src=\"cene_stanovanj_v_londonu.png\"/>\n",
    "Tukaj rdeča območja v primerjavi z črnimi predstavljajo dražje alternative. Tu lahko vidimo prehod med črno, nato črno-rdečo, kasneje pa rdečo mejo. Spet se izkaže, da so najdražja stanovanja v Londonu na voljo ravno v središču mesta oz. tam, kjer je teh največ. "
   ]
  },
  {
   "cell_type": "markdown",
   "metadata": {},
   "source": [
    "#### 3.6 Najbolje ocenjena stanovanja\n",
    "Nato se postavi vprašanje, kje v Londonu se nahajajo najboljša stanovanja in/ali postrežba. \n",
    "<img src=\"zadovoljstvo_strank.png\"/>\n",
    "Izkaže se, da je to ponovno središče mesta oziroma njegova bližnja okolica. Bolj zelena, kot je barva na grafu, tem boljšo oceno imajo stanovanja."
   ]
  },
  {
   "cell_type": "markdown",
   "metadata": {},
   "source": [
    "### Zaključek\n",
    "Tekom tega projekta sva do dobra spoznala podatke, s katerimi sva prišla tudi do nekaj zanimivih podatkov, na primer, da cena stanovanj v Londonu relativno pada, kar je precej nenavadno."
   ]
  },
  {
   "cell_type": "markdown",
   "metadata": {},
   "source": [
    "### Povezave\n",
    "\n",
    "Programska koda:\n",
    "- https://github.com/maticlahajnar/PR18MLKL/tree/master/code.ipynb"
   ]
  }
 ],
 "metadata": {
  "kernelspec": {
   "display_name": "Python 3",
   "language": "python",
   "name": "python3"
  },
  "language_info": {
   "codemirror_mode": {
    "name": "ipython",
    "version": 3
   },
   "file_extension": ".py",
   "mimetype": "text/x-python",
   "name": "python",
   "nbconvert_exporter": "python",
   "pygments_lexer": "ipython3",
   "version": "3.6.4"
  }
 },
 "nbformat": 4,
 "nbformat_minor": 2
}
